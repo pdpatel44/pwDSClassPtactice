{
 "cells": [
  {
   "cell_type": "code",
   "execution_count": 1,
   "id": "bf8f771e-c3b7-48c4-bc88-7bfdf5ebf0b7",
   "metadata": {},
   "outputs": [
    {
     "name": "stdin",
     "output_type": "stream",
     "text": [
      "Enter amount to withdraw: 115\n"
     ]
    },
    {
     "name": "stdout",
     "output_type": "stream",
     "text": [
      "amout left{} 885\n",
      "amout left{} 770\n",
      "amout left{} 655\n",
      "amout left{} 540\n",
      "amout left{} 425\n",
      "amout left{} 310\n",
      "amout left{} 195\n",
      "amout left{} 80\n"
     ]
    }
   ],
   "source": [
    "ip = int(input(\"Enter amount to withdraw:\"))\n",
    "bal = 1000\n",
    "\n",
    "while bal > 0 and bal > ip:\n",
    "    if ip <= bal :\n",
    "        bal = bal - ip\n",
    "        print(\"amout left{}\", bal)\n",
    "    else :\n",
    "        print(\"Low balance\", bal)\n",
    "        "
   ]
  },
  {
   "cell_type": "markdown",
   "id": "4325e002-205e-48f2-9922-72cff236bd2f",
   "metadata": {},
   "source": [
    "## for Loop"
   ]
  },
  {
   "cell_type": "code",
   "execution_count": 4,
   "id": "92bd6182-d98e-4415-8e7b-ab7b2a0a1812",
   "metadata": {},
   "outputs": [
    {
     "name": "stdout",
     "output_type": "stream",
     "text": [
      "['Name', 1, 2, 'apple', 'banana']\n"
     ]
    }
   ],
   "source": [
    "lst = [\"Name\", 1, 2, \"apple\", \"banana\"]\n",
    "print(lst)"
   ]
  },
  {
   "cell_type": "code",
   "execution_count": 5,
   "id": "74afefde-b7e6-4571-b685-35b84030eff6",
   "metadata": {},
   "outputs": [
    {
     "name": "stdout",
     "output_type": "stream",
     "text": [
      "Name\n",
      "1\n",
      "2\n",
      "apple\n",
      "banana\n"
     ]
    }
   ],
   "source": [
    "lst = [\"Name\", 1, 2, \"apple\", \"banana\"]\n",
    "for a in lst :\n",
    "    print(a)"
   ]
  },
  {
   "cell_type": "code",
   "execution_count": 10,
   "id": "4056f2b8-2be6-4bf1-b401-f0776d9b898c",
   "metadata": {},
   "outputs": [
    {
     "name": "stdout",
     "output_type": "stream",
     "text": [
      "apple\n"
     ]
    }
   ],
   "source": [
    "lst = [\"Name\", 1, 2, \"apple\", \"banana\"]\n",
    "for a in lst :\n",
    "    #print(a)\n",
    "    if a==\"apple\":\n",
    "        print(a)"
   ]
  },
  {
   "cell_type": "code",
   "execution_count": 11,
   "id": "2ec6db78-b8d8-4367-aed8-22a545b16f66",
   "metadata": {},
   "outputs": [
    {
     "name": "stdout",
     "output_type": "stream",
     "text": [
      "m\n",
      "a\n",
      "n\n",
      "g\n",
      "o\n"
     ]
    }
   ],
   "source": [
    "fruit=\"mango\"\n",
    "for x in fruit:\n",
    "    print(x)"
   ]
  },
  {
   "cell_type": "code",
   "execution_count": 12,
   "id": "5671ece1-f9d9-4cf7-a270-cd13c41eb943",
   "metadata": {},
   "outputs": [
    {
     "name": "stdout",
     "output_type": "stream",
     "text": [
      "m a n g o "
     ]
    }
   ],
   "source": [
    "fruit=\"mango\"\n",
    "for x in fruit:\n",
    "    print(x, end=' ')"
   ]
  },
  {
   "cell_type": "markdown",
   "id": "1dd5c92f-6188-4dcb-8033-379d30c1d579",
   "metadata": {},
   "source": [
    "## Range ##"
   ]
  },
  {
   "cell_type": "code",
   "execution_count": 15,
   "id": "6e6a7c29-5755-4e9d-ac13-f9f9bbb726b4",
   "metadata": {},
   "outputs": [
    {
     "name": "stdout",
     "output_type": "stream",
     "text": [
      "1\n",
      "2\n",
      "3\n",
      "4\n",
      "5\n",
      "6\n",
      "7\n",
      "8\n",
      "9\n"
     ]
    }
   ],
   "source": [
    "for i in range(1, 10):\n",
    "    print(i)"
   ]
  },
  {
   "cell_type": "code",
   "execution_count": 24,
   "id": "404c37f7-ebce-40be-a63f-20ba60aca43e",
   "metadata": {},
   "outputs": [
    {
     "name": "stdin",
     "output_type": "stream",
     "text": [
      "Enter iteration 4\n"
     ]
    },
    {
     "name": "stdout",
     "output_type": "stream",
     "text": [
      "*\n",
      "**\n",
      "***\n",
      "****\n"
     ]
    }
   ],
   "source": [
    "n=int(input(\"Enter iteration\"))\n",
    "for i in range(0, n):\n",
    "    for j in range(0,i+1):\n",
    "        print(\"*\", end=\"\")\n",
    "    print(\"\\r\")"
   ]
  },
  {
   "cell_type": "code",
   "execution_count": 29,
   "id": "3fa3caf4-f675-4270-882b-afbeebcd3369",
   "metadata": {},
   "outputs": [
    {
     "name": "stdin",
     "output_type": "stream",
     "text": [
      "Enter iteration 10\n"
     ]
    },
    {
     "name": "stdout",
     "output_type": "stream",
     "text": [
      "          *\n",
      "         **\n",
      "        ***\n",
      "       ****\n",
      "      *****\n",
      "     ******\n",
      "    *******\n",
      "   ********\n",
      "  *********\n",
      " **********\n"
     ]
    }
   ],
   "source": [
    "n=int(input(\"Enter iteration\"))\n",
    "for i in range(0, n):\n",
    "    for k in range(n, i, -1):\n",
    "        #print(k)\n",
    "        print(\" \",end=\"\")\n",
    "    for j in range(0,i+1):\n",
    "        print(\"*\", end=\"\")\n",
    "    print(\"\\r\")"
   ]
  },
  {
   "cell_type": "code",
   "execution_count": 35,
   "id": "e26057de-972b-48ca-bafa-7dea6e51875c",
   "metadata": {},
   "outputs": [
    {
     "name": "stdin",
     "output_type": "stream",
     "text": [
      "Enter iteration 10\n"
     ]
    },
    {
     "name": "stdout",
     "output_type": "stream",
     "text": [
      "          * \n",
      "         * * \n",
      "        * * * \n",
      "       * * * * \n",
      "      * * * * * \n",
      "     * * * * * * \n",
      "    * * * * * * * \n",
      "   * * * * * * * * \n",
      "  * * * * * * * * * \n",
      " * * * * * * * * * * \n"
     ]
    }
   ],
   "source": [
    "n=int(input(\"Enter iteration\"))\n",
    "for i in range(0, n):\n",
    "    for k in range(int(n), i, -1):\n",
    "        #print(k)\n",
    "        print(\" \",end=\"\")\n",
    "    for j in range(0,i+1):\n",
    "        print(\"* \", end=\"\")\n",
    "    print(\"\\r\")"
   ]
  },
  {
   "cell_type": "code",
   "execution_count": 38,
   "id": "478d2f39-e745-44ab-bf1c-aa49cd710dc8",
   "metadata": {},
   "outputs": [
    {
     "name": "stdin",
     "output_type": "stream",
     "text": [
      "Enter iteration 6\n"
     ]
    },
    {
     "name": "stdout",
     "output_type": "stream",
     "text": [
      " * * * * * * \n",
      "  * * * * * \n",
      "   * * * * \n",
      "    * * * \n",
      "     * * \n",
      "      * \n"
     ]
    }
   ],
   "source": [
    "n=int(input(\"Enter iteration\"))\n",
    "for i in range(0, n):\n",
    "    for k in range(0,i+1):\n",
    "        #print(k)\n",
    "        print(\" \",end=\"\")\n",
    "    for j in range(0,n-i):\n",
    "        print(\"* \", end=\"\")\n",
    "    print(\"\\r\")"
   ]
  },
  {
   "cell_type": "code",
   "execution_count": null,
   "id": "0b27f3e9-54bc-4d20-8e76-e9c51441f79c",
   "metadata": {},
   "outputs": [],
   "source": []
  }
 ],
 "metadata": {
  "kernelspec": {
   "display_name": "Python 3 (ipykernel)",
   "language": "python",
   "name": "python3"
  },
  "language_info": {
   "codemirror_mode": {
    "name": "ipython",
    "version": 3
   },
   "file_extension": ".py",
   "mimetype": "text/x-python",
   "name": "python",
   "nbconvert_exporter": "python",
   "pygments_lexer": "ipython3",
   "version": "3.10.8"
  }
 },
 "nbformat": 4,
 "nbformat_minor": 5
}
